{
  "cells": [
    {
      "cell_type": "markdown",
      "metadata": {
        "id": "view-in-github",
        "colab_type": "text"
      },
      "source": [
        "<a href=\"https://colab.research.google.com/github/jerry71867/python-/blob/main/python%E7%9A%84%E5%84%B2%E5%AD%98%E5%BA%AB.ipynb\" target=\"_parent\"><img src=\"https://colab.research.google.com/assets/colab-badge.svg\" alt=\"Open In Colab\"/></a>"
      ]
    },
    {
      "cell_type": "markdown",
      "source": [
        "## Chap0\n"
      ],
      "metadata": {
        "id": "TDxhX81FtBfT"
      }
    },
    {
      "cell_type": "markdown",
      "source": [
        " import匯入\n",
        "\n",
        "- calendar日曆\n",
        "- month月\n",
        "\n",
        "- matplotlib.pyplot = plt = 圖表\n",
        "- bar=直條圖\n",
        "- pie=圓餅圖\n",
        "- show=顯示"
      ],
      "metadata": {
        "id": "AesvxL6JtGsh"
      }
    },
    {
      "cell_type": "code",
      "source": [
        "import calendar\n",
        "print(calendar.month(2022,3))"
      ],
      "metadata": {
        "colab": {
          "base_uri": "https://localhost:8080/"
        },
        "id": "vQPvItoQtH1A",
        "outputId": "c027ff68-39b9-4ccf-b47f-7a7a11b7a737"
      },
      "execution_count": 1,
      "outputs": [
        {
          "output_type": "stream",
          "name": "stdout",
          "text": [
            "     March 2022\n",
            "Mo Tu We Th Fr Sa Su\n",
            "    1  2  3  4  5  6\n",
            " 7  8  9 10 11 12 13\n",
            "14 15 16 17 18 19 20\n",
            "21 22 23 24 25 26 27\n",
            "28 29 30 31\n",
            "\n"
          ]
        }
      ]
    },
    {
      "cell_type": "code",
      "source": [
        "import calendar\n",
        "print(calendar.calendar(2022))"
      ],
      "metadata": {
        "colab": {
          "base_uri": "https://localhost:8080/"
        },
        "id": "Dtq3Pl3vtK6A",
        "outputId": "1fdab2ec-7ca7-413f-d331-2acbdc57d272"
      },
      "execution_count": 2,
      "outputs": [
        {
          "output_type": "stream",
          "name": "stdout",
          "text": [
            "                                  2022\n",
            "\n",
            "      January                   February                   March\n",
            "Mo Tu We Th Fr Sa Su      Mo Tu We Th Fr Sa Su      Mo Tu We Th Fr Sa Su\n",
            "                1  2          1  2  3  4  5  6          1  2  3  4  5  6\n",
            " 3  4  5  6  7  8  9       7  8  9 10 11 12 13       7  8  9 10 11 12 13\n",
            "10 11 12 13 14 15 16      14 15 16 17 18 19 20      14 15 16 17 18 19 20\n",
            "17 18 19 20 21 22 23      21 22 23 24 25 26 27      21 22 23 24 25 26 27\n",
            "24 25 26 27 28 29 30      28                        28 29 30 31\n",
            "31\n",
            "\n",
            "       April                      May                       June\n",
            "Mo Tu We Th Fr Sa Su      Mo Tu We Th Fr Sa Su      Mo Tu We Th Fr Sa Su\n",
            "             1  2  3                         1             1  2  3  4  5\n",
            " 4  5  6  7  8  9 10       2  3  4  5  6  7  8       6  7  8  9 10 11 12\n",
            "11 12 13 14 15 16 17       9 10 11 12 13 14 15      13 14 15 16 17 18 19\n",
            "18 19 20 21 22 23 24      16 17 18 19 20 21 22      20 21 22 23 24 25 26\n",
            "25 26 27 28 29 30         23 24 25 26 27 28 29      27 28 29 30\n",
            "                          30 31\n",
            "\n",
            "        July                     August                  September\n",
            "Mo Tu We Th Fr Sa Su      Mo Tu We Th Fr Sa Su      Mo Tu We Th Fr Sa Su\n",
            "             1  2  3       1  2  3  4  5  6  7                1  2  3  4\n",
            " 4  5  6  7  8  9 10       8  9 10 11 12 13 14       5  6  7  8  9 10 11\n",
            "11 12 13 14 15 16 17      15 16 17 18 19 20 21      12 13 14 15 16 17 18\n",
            "18 19 20 21 22 23 24      22 23 24 25 26 27 28      19 20 21 22 23 24 25\n",
            "25 26 27 28 29 30 31      29 30 31                  26 27 28 29 30\n",
            "\n",
            "      October                   November                  December\n",
            "Mo Tu We Th Fr Sa Su      Mo Tu We Th Fr Sa Su      Mo Tu We Th Fr Sa Su\n",
            "                1  2          1  2  3  4  5  6                1  2  3  4\n",
            " 3  4  5  6  7  8  9       7  8  9 10 11 12 13       5  6  7  8  9 10 11\n",
            "10 11 12 13 14 15 16      14 15 16 17 18 19 20      12 13 14 15 16 17 18\n",
            "17 18 19 20 21 22 23      21 22 23 24 25 26 27      19 20 21 22 23 24 25\n",
            "24 25 26 27 28 29 30      28 29 30                  26 27 28 29 30 31\n",
            "31\n",
            "\n"
          ]
        }
      ]
    },
    {
      "cell_type": "code",
      "source": [
        "import matplotlib.pyplot as plt #matplotlib.pyplot = plt = 圖表\n",
        "x=[1,2,3]\n",
        "y=[4,5,6]\n",
        "plt.bar(x,y) #bar=直條圖\n",
        "plt.show #show=顯示"
      ],
      "metadata": {
        "colab": {
          "base_uri": "https://localhost:8080/",
          "height": 282
        },
        "id": "eO4r9bf9tMew",
        "outputId": "cb260a5c-4874-4a30-e3f0-0a79cc84852d"
      },
      "execution_count": 3,
      "outputs": [
        {
          "output_type": "execute_result",
          "data": {
            "text/plain": [
              "<function matplotlib.pyplot.show>"
            ]
          },
          "metadata": {},
          "execution_count": 3
        },
        {
          "output_type": "display_data",
          "data": {
            "text/plain": [
              "<Figure size 432x288 with 1 Axes>"
            ],
            "image/png": "[encoded data removed]"
          },
          "metadata": {
            "needs_background": "light"
          }
        }
      ]
    },
    {
      "cell_type": "code",
      "source": [
        "plt.pie(x, labels=y) #pie=圓餅圖\n",
        "plt.show #show=顯示"
      ],
      "metadata": {
        "colab": {
          "base_uri": "https://localhost:8080/",
          "height": 265
        },
        "id": "8wR7FKrdtN7-",
        "outputId": "4d2ab74c-0871-4824-e424-ee53f6d3869e"
      },
      "execution_count": 4,
      "outputs": [
        {
          "output_type": "execute_result",
          "data": {
            "text/plain": [
              "<function matplotlib.pyplot.show>"
            ]
          },
          "metadata": {},
          "execution_count": 4
        },
        {
          "output_type": "display_data",
          "data": {
            "text/plain": [
              "<Figure size 432x288 with 1 Axes>"
            ],
            "image/png": "[encoded data removed]"
          },
          "metadata": {}
        }
      ]
    },
    {
      "cell_type": "markdown",
      "source": [
        "## Chap1 運算式、變數與資料型別\n",
        "\n",
        "##註解"
      ],
      "metadata": {
        "id": "-2KJgA2utQK9"
      }
    },
    {
      "cell_type": "code",
      "source": [
        "#單行註解\n",
        "a=5\n",
        "b=3\n",
        "print(a+b)"
      ],
      "metadata": {
        "colab": {
          "base_uri": "https://localhost:8080/"
        },
        "id": "tseSF9W7tQ2y",
        "outputId": "b641ad6d-29a9-4845-ef55-8bc93a4c30a8"
      },
      "execution_count": 5,
      "outputs": [
        {
          "output_type": "stream",
          "name": "stdout",
          "text": [
            "8\n"
          ]
        }
      ]
    },
    {
      "cell_type": "code",
      "source": [
        "'''\n",
        "多行註解\n",
        "多行註解\n",
        "'''\n",
        "a=5\n",
        "b=3\n",
        "print(a+b)"
      ],
      "metadata": {
        "colab": {
          "base_uri": "https://localhost:8080/"
        },
        "id": "1KyH-p8PtUWf",
        "outputId": "c7d7a0c1-421b-4111-eb77-5269b9b1ee11"
      },
      "execution_count": 6,
      "outputs": [
        {
          "output_type": "stream",
          "name": "stdout",
          "text": [
            "8\n"
          ]
        }
      ]
    },
    {
      "cell_type": "code",
      "source": [
        "#變數交換,透過第3變數z\n",
        "x=1\n",
        "y=10\n",
        "\n",
        "z=x #z=1\n",
        "x=y #x=10\n",
        "y=z #y=z=1\n",
        "print(x)\n",
        "print(y)"
      ],
      "metadata": {
        "colab": {
          "base_uri": "https://localhost:8080/"
        },
        "id": "8C76wvEutWCl",
        "outputId": "46198da5-a3da-4b4c-c5ee-5922dd2b36e9"
      },
      "execution_count": 7,
      "outputs": [
        {
          "output_type": "stream",
          "name": "stdout",
          "text": [
            "10\n",
            "1\n"
          ]
        }
      ]
    },
    {
      "cell_type": "code",
      "source": [
        "#變數交換,不透過第3變數\n",
        "x=1\n",
        "y=10\n",
        "\n",
        "x=x+y # x=1+10=11 x=11\n",
        "y=x-y # y=11-10=1 y=1\n",
        "x=x-y # x=11-1=10 x=10\n",
        "print(x,y)"
      ],
      "metadata": {
        "colab": {
          "base_uri": "https://localhost:8080/"
        },
        "id": "3u7Oia1ItY3o",
        "outputId": "7dfac212-3aec-4f5e-d8e3-bfb57d145bd3"
      },
      "execution_count": 8,
      "outputs": [
        {
          "output_type": "stream",
          "name": "stdout",
          "text": [
            "10 1\n"
          ]
        }
      ]
    },
    {
      "cell_type": "code",
      "source": [
        "#python版本的變數交換\n",
        "x=1\n",
        "y=10\n",
        "\n",
        "x,y=y,x\n",
        "print(x,y)\n"
      ],
      "metadata": {
        "colab": {
          "base_uri": "https://localhost:8080/"
        },
        "id": "cGw8QDuJtbFh",
        "outputId": "d00bc254-a156-4aae-e4ba-6e7ac1493ece"
      },
      "execution_count": 9,
      "outputs": [
        {
          "output_type": "stream",
          "name": "stdout",
          "text": [
            "10 1\n"
          ]
        }
      ]
    },
    {
      "cell_type": "code",
      "source": [
        "#變數的平行設定\n",
        "x,y,z=1,10,100\n",
        "print(x,y,z)"
      ],
      "metadata": {
        "colab": {
          "base_uri": "https://localhost:8080/"
        },
        "id": "XluyiQSntcvU",
        "outputId": "f894f381-79e0-463a-e935-522355c5bf5a"
      },
      "execution_count": 10,
      "outputs": [
        {
          "output_type": "stream",
          "name": "stdout",
          "text": [
            "1 10 100\n"
          ]
        }
      ]
    },
    {
      "cell_type": "code",
      "source": [
        "x,y,z=3,4,5\n",
        "x+=1 #x=x+1\n",
        "y*=2 #y=y*2\n",
        "z**=3 #z=z的3次方,\n",
        "print(x,y,z)"
      ],
      "metadata": {
        "colab": {
          "base_uri": "https://localhost:8080/"
        },
        "id": "pnw7wZwmtfKg",
        "outputId": "a98252f8-e34b-4aab-f74b-30391cb054fd"
      },
      "execution_count": 11,
      "outputs": [
        {
          "output_type": "stream",
          "name": "stdout",
          "text": [
            "4 8 125\n"
          ]
        }
      ]
    },
    {
      "cell_type": "markdown",
      "source": [
        "## 變數的應用"
      ],
      "metadata": {
        "id": "YGSYQR5UthLF"
      }
    },
    {
      "cell_type": "code",
      "source": [
        "#圓形\n",
        "import math\n",
        "r=10\n",
        "print(r*r*math.pi)\n"
      ],
      "metadata": {
        "colab": {
          "base_uri": "https://localhost:8080/"
        },
        "id": "jdTKJxv8tkKz",
        "outputId": "0684553a-82e4-4196-a25e-cfaaae76f3c4"
      },
      "execution_count": 14,
      "outputs": [
        {
          "output_type": "stream",
          "name": "stdout",
          "text": [
            "314.1592653589793\n"
          ]
        }
      ]
    },
    {
      "cell_type": "code",
      "source": [
        "#圓形(自行輸入半徑=r\n",
        "import math\n",
        "r=eval(input(\"請輸入圓的半徑:\")) #eval()將字串轉化成數值運算\n",
        "print(r*r*math.pi)\n"
      ],
      "metadata": {
        "colab": {
          "base_uri": "https://localhost:8080/"
        },
        "id": "KxlZ9xb_tudg",
        "outputId": "57a87587-a715-4f4e-e003-319370420453"
      },
      "execution_count": 13,
      "outputs": [
        {
          "output_type": "stream",
          "name": "stdout",
          "text": [
            "請輸入圓的半徑:5*2\n",
            "314.1592653589793\n"
          ]
        }
      ]
    },
    {
      "cell_type": "code",
      "source": [
        "#長方形 (自行輸入\n",
        "import math\n",
        "a=eval(input(\"請輸入寬:\"))\n",
        "b=eval(input(\"請輸入長:\"))\n",
        "print(\"長方形面積為:\"),print(a*b)"
      ],
      "metadata": {
        "colab": {
          "base_uri": "https://localhost:8080/"
        },
        "id": "mxg6r6qyt5La",
        "outputId": "f3cac6ce-c158-4b7f-92a9-1d0db98bed55"
      },
      "execution_count": 12,
      "outputs": [
        {
          "output_type": "stream",
          "name": "stdout",
          "text": [
            "請輸入寬:5\n",
            "請輸入長:5\n",
            "長方形面積為:\n",
            "25\n"
          ]
        },
        {
          "output_type": "execute_result",
          "data": {
            "text/plain": [
              "(None, None)"
            ]
          },
          "metadata": {},
          "execution_count": 12
        }
      ]
    },
    {
      "cell_type": "markdown",
      "source": [
        "## 資料型別\n"
      ],
      "metadata": {
        "id": "z0Hhvd16t7d6"
      }
    },
    {
      "cell_type": "code",
      "source": [
        "x=254\n",
        "y=254.0\n",
        "z=\"Hi\"\n",
        "print(type(x))  #int整數值\n",
        "print(type(y))  #float小數值\n",
        "print(type(z))  #str字串\n",
        "print(type(x==y)) #bool布林值,兩個等於=是否相同"
      ],
      "metadata": {
        "colab": {
          "base_uri": "https://localhost:8080/"
        },
        "id": "iGc7cXLGt9Du",
        "outputId": "52981c45-1789-4187-aa21-7af7d4b2f29b"
      },
      "execution_count": 15,
      "outputs": [
        {
          "output_type": "stream",
          "name": "stdout",
          "text": [
            "<class 'int'>\n",
            "<class 'float'>\n",
            "<class 'str'>\n",
            "<class 'bool'>\n"
          ]
        }
      ]
    },
    {
      "cell_type": "markdown",
      "source": [
        "## 算術符號"
      ],
      "metadata": {
        "id": "fH9CxjXZt_RT"
      }
    },
    {
      "cell_type": "code",
      "source": [
        "x=10\n",
        "y=3\n",
        "print(x/y) #除法\n",
        "print(x//y) #取商數\n",
        "print(x%y) #取餘數"
      ],
      "metadata": {
        "colab": {
          "base_uri": "https://localhost:8080/"
        },
        "id": "e9BtgATBuBNN",
        "outputId": "1ac7b55b-4206-4ab4-d5ab-465b873b6875"
      },
      "execution_count": 16,
      "outputs": [
        {
          "output_type": "stream",
          "name": "stdout",
          "text": [
            "3.3333333333333335\n",
            "3\n",
            "1\n"
          ]
        }
      ]
    },
    {
      "cell_type": "code",
      "source": [
        "x=(5*(1+2)**2-3+4/2)\n",
        "print(x)"
      ],
      "metadata": {
        "colab": {
          "base_uri": "https://localhost:8080/"
        },
        "id": "Q_D2GY5yuEhL",
        "outputId": "02624d88-1906-4fc4-b133-69317336d8ca"
      },
      "execution_count": 17,
      "outputs": [
        {
          "output_type": "stream",
          "name": "stdout",
          "text": [
            "44.0\n"
          ]
        }
      ]
    },
    {
      "cell_type": "markdown",
      "source": [
        "## 型別轉換"
      ],
      "metadata": {
        "id": "L7nHM1nAuGHo"
      }
    },
    {
      "cell_type": "code",
      "source": [
        "x=\"must \"\n",
        "print(type(x))\n",
        "y=20 \n",
        "print(type(y))\n",
        "print(10*y)\n",
        "print(10*x)\n",
        "z=\"10 \"\n",
        "print(10*z)\n",
        "print(10*int(z)) #int整數值\n",
        "print(10*float(z)) #float小數值\n",
        "print(10*str(y)) #str字串\n",
        "print(10*eval(\"5*2\")) #eval()將字串轉化成數值運算"
      ],
      "metadata": {
        "colab": {
          "base_uri": "https://localhost:8080/"
        },
        "id": "rIIxDsttuIzx",
        "outputId": "90f91f6e-b74e-4979-eb36-d07e45c188ec"
      },
      "execution_count": 18,
      "outputs": [
        {
          "output_type": "stream",
          "name": "stdout",
          "text": [
            "<class 'str'>\n",
            "<class 'int'>\n",
            "200\n",
            "must must must must must must must must must must \n",
            "10 10 10 10 10 10 10 10 10 10 \n",
            "100\n",
            "100.0\n",
            "20202020202020202020\n",
            "100\n"
          ]
        }
      ]
    },
    {
      "cell_type": "markdown",
      "source": [
        "## print的三種方式\n",
        "\n",
        "\n",
        "1.   透過,區隔要列印的變數 eg: print(\"This\", \"is\", \"a\", \"book\")\n",
        "1.   利用字串的str.format() (新式)\n",
        "2.  %格式化输出字符串 (舊式) "
      ],
      "metadata": {
        "id": "_SsuK8lJuOlX"
      }
    },
    {
      "cell_type": "code",
      "source": [
        "a=\"This\"+\"is\"+\"a\"+\"book\"\n",
        "print(a)\n",
        "#答:Thisisabook\n",
        "print(\"This\",\"is\",\"a\",\"book\") \n",
        "#答:This is a book"
      ],
      "metadata": {
        "colab": {
          "base_uri": "https://localhost:8080/"
        },
        "id": "QVHiPDOxuRBF",
        "outputId": "2c126a55-a3ab-483d-d09f-d81cb159f75c"
      },
      "execution_count": 19,
      "outputs": [
        {
          "output_type": "stream",
          "name": "stdout",
          "text": [
            "Thisisabook\n",
            "This is a book\n"
          ]
        }
      ]
    },
    {
      "cell_type": "markdown",
      "source": [
        "## Chap2\n",
        "### if,elif,else\n"
      ],
      "metadata": {
        "id": "szUvlh34uTJB"
      }
    },
    {
      "cell_type": "code",
      "source": [
        "a=3\n",
        "b=4\n",
        "if a <= b:\n",
        "    print(\"b是比較大的數字\")\n",
        "else:\n",
        "    print(\"a是比較大的數字\")"
      ],
      "metadata": {
        "colab": {
          "base_uri": "https://localhost:8080/"
        },
        "id": "7m2f73dluToF",
        "outputId": "5326f8bd-4a88-464b-90dd-06230adf3343"
      },
      "execution_count": 20,
      "outputs": [
        {
          "output_type": "stream",
          "name": "stdout",
          "text": [
            "b是比較大的數字\n"
          ]
        }
      ]
    },
    {
      "cell_type": "code",
      "source": [
        "a=3\n",
        "b=4\n",
        "if a > b:  #冒號一定要加\n",
        "   print(\"a>b\") #一定要縮排\n",
        "else:\n",
        "   print(\"a<b\")"
      ],
      "metadata": {
        "colab": {
          "base_uri": "https://localhost:8080/"
        },
        "id": "1zsWMrciuViN",
        "outputId": "2f60ad8f-6816-40da-a2df-b8ef59c4f77b"
      },
      "execution_count": 21,
      "outputs": [
        {
          "output_type": "stream",
          "name": "stdout",
          "text": [
            "a<b\n"
          ]
        }
      ]
    },
    {
      "cell_type": "code",
      "source": [
        "a=4\n",
        "b=4\n",
        "if a > b:\n",
        "   print(\"a>b\")\n",
        "elif a==b:\n",
        "  print(\"a==b\")\n",
        "else:\n",
        "   print(\"a<b\")"
      ],
      "metadata": {
        "colab": {
          "base_uri": "https://localhost:8080/"
        },
        "id": "OwVYXRu8uXG1",
        "outputId": "8c60770a-63e4-473a-e330-834eaf24efd4"
      },
      "execution_count": 22,
      "outputs": [
        {
          "output_type": "stream",
          "name": "stdout",
          "text": [
            "a==b\n"
          ]
        }
      ]
    },
    {
      "cell_type": "code",
      "source": [
        "grade=87\n",
        "print(\"成績評鑑:\")\n",
        "if grade >=90:\n",
        "  print(\"優等\")\n",
        "elif grade >80:\n",
        "  print(\"甲等\")\n",
        "elif grade >70:\n",
        "  print(\"乙等\")\n",
        "elif grade >60:\n",
        "  print(\"丙等\")\n",
        "else:\n",
        "  print(\"不及格\")"
      ],
      "metadata": {
        "colab": {
          "base_uri": "https://localhost:8080/"
        },
        "id": "MnXb5yDluc0W",
        "outputId": "6e6e1e58-bd5f-4fa9-cabf-c2852b31a191"
      },
      "execution_count": 23,
      "outputs": [
        {
          "output_type": "stream",
          "name": "stdout",
          "text": [
            "成績評鑑:\n",
            "甲等\n"
          ]
        }
      ]
    },
    {
      "cell_type": "markdown",
      "source": [
        "## for迴圈"
      ],
      "metadata": {
        "id": "170VDv-WufJp"
      }
    },
    {
      "cell_type": "code",
      "source": [
        "for a in range(10): #方法一  #range從0開始算10個數字\n",
        "  print(a)\n",
        "\n",
        "#for i in range(0,10,1): #方法二\n",
        "  #print(i)"
      ],
      "metadata": {
        "colab": {
          "base_uri": "https://localhost:8080/"
        },
        "id": "dXW84OWWuhTE",
        "outputId": "737d6378-1e8b-460e-8db6-691d61054bbc"
      },
      "execution_count": 24,
      "outputs": [
        {
          "output_type": "stream",
          "name": "stdout",
          "text": [
            "0\n",
            "1\n",
            "2\n",
            "3\n",
            "4\n",
            "5\n",
            "6\n",
            "7\n",
            "8\n",
            "9\n"
          ]
        }
      ]
    },
    {
      "cell_type": "code",
      "source": [
        "for b in \"Hey! BO\": #一個字等於一個字串\n",
        "  print(b) #b=H b=e b=y b=! b=一格空白建 b=y b=o\n",
        "\n",
        "for d in [\"Java\",\"python\",\"C#\"]: #一個詞等於一個字串\n",
        "  print(d) #d=Java d=python d=C#"
      ],
      "metadata": {
        "colab": {
          "base_uri": "https://localhost:8080/"
        },
        "id": "3x3qnRQcui7H",
        "outputId": "3e54435d-f879-4d33-d5ab-56ca166fdc53"
      },
      "execution_count": 25,
      "outputs": [
        {
          "output_type": "stream",
          "name": "stdout",
          "text": [
            "H\n",
            "e\n",
            "y\n",
            "!\n",
            " \n",
            "B\n",
            "O\n",
            "Java\n",
            "python\n",
            "C#\n"
          ]
        }
      ]
    },
    {
      "cell_type": "code",
      "source": [
        "sum=0\n",
        "for e in range(11): #range等於0~10 #也能寫成range(1,11,1)\n",
        "  sum+=e\n",
        "print(\"1+2+3+...+10 =\", sum)\n",
        "print(sum)"
      ],
      "metadata": {
        "colab": {
          "base_uri": "https://localhost:8080/"
        },
        "id": "rU14AUkWukfT",
        "outputId": "083b5a40-b594-4919-9daf-1faffcb1a419"
      },
      "execution_count": 26,
      "outputs": [
        {
          "output_type": "stream",
          "name": "stdout",
          "text": [
            "1+2+3+...+10 = 55\n",
            "55\n"
          ]
        }
      ]
    },
    {
      "cell_type": "code",
      "source": [
        "#雞兔同籠,若共有35個頭,94隻腳,請問有幾隻雞?幾隻兔?\n",
        "for chicken in range(0,36):\n",
        "  rabbit=35-chicken\n",
        "  if (2*chicken+4*rabbit)==94:\n",
        "    print(\"雞有\",chicken,\"隻\",\"兔子有\",rabbit,\"隻\")\n",
        "    break\n",
        "\n",
        "else:\n",
        "  print(\"無解\")"
      ],
      "metadata": {
        "colab": {
          "base_uri": "https://localhost:8080/"
        },
        "id": "lJv7VoVSumUQ",
        "outputId": "8ac04f66-36a4-427d-befb-164a18968560"
      },
      "execution_count": 27,
      "outputs": [
        {
          "output_type": "stream",
          "name": "stdout",
          "text": [
            "雞有 23 隻 兔子有 12 隻\n"
          ]
        }
      ]
    },
    {
      "cell_type": "markdown",
      "source": [
        "## while迴圈"
      ],
      "metadata": {
        "id": "1dbDgui7uoks"
      }
    },
    {
      "cell_type": "code",
      "source": [
        "i=1\n",
        "sum=0\n",
        "while i < 11: #i=0~10\n",
        "  sum=sum+i #從0開始+1\n",
        "  i+=1\n",
        "print(sum)"
      ],
      "metadata": {
        "colab": {
          "base_uri": "https://localhost:8080/"
        },
        "id": "tBi4ypvsutkO",
        "outputId": "bec939da-6e6a-41cf-b2dd-8f38ee7a12d6"
      },
      "execution_count": 28,
      "outputs": [
        {
          "output_type": "stream",
          "name": "stdout",
          "text": [
            "55\n"
          ]
        }
      ]
    },
    {
      "cell_type": "markdown",
      "source": [
        "# **Chap3**"
      ],
      "metadata": {
        "id": "CQ4yUI05jBO0"
      }
    },
    {
      "cell_type": "markdown",
      "source": [
        "Python物件\n",
        "List[串列] Tuple(元組) Dictionary{字典} Sets{集合}\n",
        "List[串列]"
      ],
      "metadata": {
        "id": "6BihMWQDihOL"
      }
    },
    {
      "cell_type": "code",
      "source": [
        "expenses = [1138, 101, 12, 300, 2049]\n",
        "print(sum(expenses))"
      ],
      "metadata": {
        "id": "kBdpU_rcihXs"
      },
      "execution_count": null,
      "outputs": []
    },
    {
      "cell_type": "markdown",
      "source": [
        "索引"
      ],
      "metadata": {
        "id": "LYUibMONiikj"
      }
    },
    {
      "cell_type": "code",
      "source": [
        "expenses = [1138, 101, 12, 300, 2049]\n",
        "print(expenses[0]) #索引從0開始\n",
        "print(expenses[1])\n",
        "print(expenses[-1]) #倒數第一個\n",
        "print(expenses[-2])"
      ],
      "metadata": {
        "id": "mdZlfFbyiiso",
        "outputId": "54c5dcc9-dc61-4bd5-ff01-97aaf6bcbe4f",
        "colab": {
          "base_uri": "https://localhost:8080/"
        }
      },
      "execution_count": null,
      "outputs": [
        {
          "output_type": "stream",
          "name": "stdout",
          "text": [
            "1138\n",
            "101\n",
            "2049\n",
            "300\n"
          ]
        }
      ]
    },
    {
      "cell_type": "code",
      "source": [
        "my_list0 = [] #空串列\n",
        "my_list1 = list() \n",
        "my_list2 = ['python', 'javascript', 'C#']\n",
        "print(my_list2[0])"
      ],
      "metadata": {
        "id": "vGwj1ws3iuu5",
        "outputId": "dcf3bea2-56c4-42f4-8312-bddad6ab2499",
        "colab": {
          "base_uri": "https://localhost:8080/"
        }
      },
      "execution_count": null,
      "outputs": [
        {
          "output_type": "stream",
          "name": "stdout",
          "text": [
            "python\n"
          ]
        }
      ]
    },
    {
      "cell_type": "markdown",
      "source": [
        "list的長度"
      ],
      "metadata": {
        "id": "1HxekVcHivgk"
      }
    },
    {
      "cell_type": "code",
      "source": [
        "my_list2 = ['python', 'javascript', 'C#']\n",
        "print(len(my_list2))\n",
        "print(len(my_list2[0]))"
      ],
      "metadata": {
        "id": "kCos3-56ixKY",
        "outputId": "936eac40-8fa9-4db9-d891-cd26f737a921",
        "colab": {
          "base_uri": "https://localhost:8080/"
        }
      },
      "execution_count": null,
      "outputs": [
        {
          "output_type": "stream",
          "name": "stdout",
          "text": [
            "3\n",
            "6\n"
          ]
        }
      ]
    },
    {
      "cell_type": "markdown",
      "source": [
        "附加"
      ],
      "metadata": {
        "id": "r66WA3Bei02m"
      }
    },
    {
      "cell_type": "code",
      "source": [
        "my_list2 = ['python', 'javascript', 'C#']\n",
        "my_list2.append('java')\n",
        "print(my_list2)"
      ],
      "metadata": {
        "id": "dMHVHzyli2mE",
        "outputId": "9a88a102-5448-4e70-e1fd-809811d4c4ca",
        "colab": {
          "base_uri": "https://localhost:8080/"
        }
      },
      "execution_count": null,
      "outputs": [
        {
          "output_type": "stream",
          "name": "stdout",
          "text": [
            "['python', 'javascript', 'C#', 'java']\n"
          ]
        }
      ]
    },
    {
      "cell_type": "code",
      "source": [
        "my_list2 = ['python', 'javascript', 'C#']\n",
        "my_list2.insert(1,'java')\n",
        "print(my_list2)"
      ],
      "metadata": {
        "id": "4tr63REIi3Ly",
        "outputId": "cd0dfbc6-f196-4157-e894-06b509fa8d29",
        "colab": {
          "base_uri": "https://localhost:8080/"
        }
      },
      "execution_count": null,
      "outputs": [
        {
          "output_type": "stream",
          "name": "stdout",
          "text": [
            "['python', 'java', 'javascript', 'C#']\n"
          ]
        }
      ]
    },
    {
      "cell_type": "markdown",
      "source": [
        "刪除"
      ],
      "metadata": {
        "id": "REabZQ8zi5fi"
      }
    },
    {
      "cell_type": "code",
      "source": [
        "my_list2 = ['python', 'javascript', 'C#']\n",
        "my_list2.remove('python') #移除指定元素\n",
        "print(my_list2)\n",
        "del my_list2[-1] #刪除指定位置的元素\n",
        "print(my_list2)\n",
        "my_list2.clear() #清除全部\n",
        "print(my_list2)"
      ],
      "metadata": {
        "id": "EaBX3h27i74I",
        "outputId": "dd4f17ec-0f07-4ca5-d90e-74ebd83c5ee1",
        "colab": {
          "base_uri": "https://localhost:8080/"
        }
      },
      "execution_count": null,
      "outputs": [
        {
          "output_type": "stream",
          "name": "stdout",
          "text": [
            "['javascript', 'C#']\n",
            "['javascript']\n",
            "[]\n"
          ]
        }
      ]
    },
    {
      "cell_type": "code",
      "source": [
        "a=[1,2]\n",
        "print(a*5)"
      ],
      "metadata": {
        "id": "zoTUdWrci941",
        "outputId": "a269cab9-6097-46cf-d693-9c67fc060518",
        "colab": {
          "base_uri": "https://localhost:8080/"
        }
      },
      "execution_count": null,
      "outputs": [
        {
          "output_type": "stream",
          "name": "stdout",
          "text": [
            "[1, 2, 1, 2, 1, 2, 1, 2, 1, 2]\n"
          ]
        }
      ]
    },
    {
      "cell_type": "markdown",
      "source": [
        "list取值"
      ],
      "metadata": {
        "id": "HYkqALWijMus"
      }
    },
    {
      "cell_type": "code",
      "source": [
        "a=[1,2,3,4,5,6,7,8,9]\n",
        "b=a[0:3] #範圍取值，0,1,2不包含3\n",
        "print(b)\n",
        "c=a[0:9:2] #間隔2取值\n",
        "print(c)\n",
        "d = a[0: ]\n",
        "print(d)\n",
        "e = a[ :9]\n",
        "print(e)\n",
        "f = a[:] #取全部值\n",
        "print(f)"
      ],
      "metadata": {
        "id": "gSCUqoehjOgs",
        "outputId": "fd64c76f-6ea8-4b35-aa6a-89fdc4812aba",
        "colab": {
          "base_uri": "https://localhost:8080/"
        }
      },
      "execution_count": null,
      "outputs": [
        {
          "output_type": "stream",
          "name": "stdout",
          "text": [
            "[1, 2, 3]\n",
            "[1, 3, 5, 7, 9]\n",
            "[1, 2, 3, 4, 5, 6, 7, 8, 9]\n",
            "[1, 2, 3, 4, 5, 6, 7, 8, 9]\n",
            "[1, 2, 3, 4, 5, 6, 7, 8, 9]\n"
          ]
        }
      ]
    },
    {
      "cell_type": "code",
      "source": [
        "a=[1,2,3,4,5,6,7,8,9]\n",
        "del a[7:9] #刪除某範圍值, 7, 8\n",
        "print(a)\n",
        "print(min(a)) #最小值\n",
        "print(max(a)) #最大值\n",
        "print(a.index(1)) #找出1所在的第一個索引值\n",
        "b=[1,0,0,1,1,1]\n",
        "print(b.count(1)) #1出現的次數\n",
        "a.reverse() #串列反轉\n",
        "print(a)\n",
        "a.sort() #串列由小到大排序,a的值會被改變\n",
        "print(a)"
      ],
      "metadata": {
        "id": "6L2ATE6ijQQh",
        "outputId": "4a4453e1-11b0-4382-b395-c749eae556f5",
        "colab": {
          "base_uri": "https://localhost:8080/"
        }
      },
      "execution_count": null,
      "outputs": [
        {
          "output_type": "stream",
          "name": "stdout",
          "text": [
            "[1, 2, 3, 4, 5, 6, 7]\n",
            "1\n",
            "7\n",
            "0\n",
            "4\n",
            "[7, 6, 5, 4, 3, 2, 1]\n",
            "[1, 2, 3, 4, 5, 6, 7]\n"
          ]
        }
      ]
    },
    {
      "cell_type": "code",
      "source": [
        "expenses = [1138, 101, 12, 300, 2049]\n",
        "s=sorted(expenses) #expenses的值不會變\n",
        "print(s, expenses)"
      ],
      "metadata": {
        "id": "y5EskpaGjSDb",
        "outputId": "bf6e6db8-2101-4022-cac5-3dc66645a476",
        "colab": {
          "base_uri": "https://localhost:8080/"
        }
      },
      "execution_count": null,
      "outputs": [
        {
          "output_type": "stream",
          "name": "stdout",
          "text": [
            "[12, 101, 300, 1138, 2049] [1138, 101, 12, 300, 2049]\n"
          ]
        }
      ]
    },
    {
      "cell_type": "markdown",
      "source": [
        "# **Chap3-1**"
      ],
      "metadata": {
        "id": "R30TO_f0jSwi"
      }
    },
    {
      "cell_type": "markdown",
      "source": [
        "Tuple (元組)\n",
        "tuple(元組)可視為不可改變的串列，tuple跟list很像，但是我們不能新增、刪除或更新tuple的元素。tuple的好處有：\n",
        "\n",
        "\n",
        "\n",
        "1.   佔用較少空間\n",
        "2.   可當作dictionary(字典)的鍵值\n",
        "3.    可當作函式引數\n",
        "\n",
        "\n",
        "\n",
        "\n",
        "\n",
        "\n",
        "\n",
        "\n"
      ],
      "metadata": {
        "id": "Xs8l-RyKjjFr"
      }
    },
    {
      "cell_type": "code",
      "source": [
        "a_tuple=('python', 'js', 'SQL')\n",
        "print(a_tuple)\n",
        "b_list=['go', 'c#', 'vb']\n",
        "b_tuple=tuple(b_list)\n",
        "print(b_tuple)\n",
        "print(b_tuple[0])"
      ],
      "metadata": {
        "id": "HC4qO0mZj29n",
        "outputId": "47359ae2-9096-4c34-ea2c-b92ebbbf8a17",
        "colab": {
          "base_uri": "https://localhost:8080/"
        }
      },
      "execution_count": null,
      "outputs": [
        {
          "output_type": "stream",
          "name": "stdout",
          "text": [
            "('python', 'js', 'SQL')\n",
            "('go', 'c#', 'vb')\n",
            "go\n"
          ]
        }
      ]
    },
    {
      "cell_type": "markdown",
      "source": [
        "字典(dictionary - dict)為帶有鍵值(key)的串列(list)"
      ],
      "metadata": {
        "id": "7YRXhe5Hj-tm"
      }
    },
    {
      "cell_type": "code",
      "source": [
        "languages = {}\n",
        "languages = {'name':'python', 'version':'3.7'} #索引值(鍵值)可以自訂\n",
        "print(languages['name'])\n",
        "print(languages['version'])\n",
        "a={0:'python', 1:'java', 2:'SQL'}\n",
        "print(a[0])\n",
        "print(a[1])\n",
        "print(a[2])\n",
        "print(languages)\n",
        "print(languages.keys())\n",
        "print(languages.values())\n",
        "print(languages.items())\n",
        "print('name' in languages)"
      ],
      "metadata": {
        "id": "vIVwYkKCj_Nr",
        "outputId": "8a456a18-0c3f-4e71-d1e0-11530ec7e6dc",
        "colab": {
          "base_uri": "https://localhost:8080/"
        }
      },
      "execution_count": null,
      "outputs": [
        {
          "output_type": "stream",
          "name": "stdout",
          "text": [
            "python\n",
            "3.7\n",
            "python\n",
            "java\n",
            "SQL\n",
            "{'name': 'python', 'version': '3.7'}\n",
            "dict_keys(['name', 'version'])\n",
            "dict_values(['python', '3.7'])\n",
            "dict_items([('name', 'python'), ('version', '3.7')])\n",
            "True\n"
          ]
        }
      ]
    },
    {
      "cell_type": "markdown",
      "source": [
        "# **Chap.4** \n",
        "numpy套件(numeric python)\n",
        "為什麼需要numpy?\n",
        "numpy由c撰寫，速度快python 10~1000倍以上\n",
        "numpy儲存結果較正確，python數字儲存不正確\n",
        "numpy節省記憶體儲存空間\n",
        "numpy的向量(矩陣計算)速度快\n",
        "numpy的取值方便"
      ],
      "metadata": {
        "id": "pzwEUEsXkTYY"
      }
    },
    {
      "cell_type": "code",
      "source": [
        "a_list=[1,2,3,4,5]\n",
        "print(a_list*3)"
      ],
      "metadata": {
        "id": "L6kQ8ciekXzN",
        "outputId": "0592400d-cd86-4835-d079-0bd3c95a52ac",
        "colab": {
          "base_uri": "https://localhost:8080/"
        }
      },
      "execution_count": null,
      "outputs": [
        {
          "output_type": "stream",
          "name": "stdout",
          "text": [
            "[1, 2, 3, 4, 5, 1, 2, 3, 4, 5, 1, 2, 3, 4, 5]\n"
          ]
        }
      ]
    },
    {
      "cell_type": "code",
      "source": [
        "#numpy套件的ndarray型態,提供element-wise的操作\n",
        "import numpy as np\n",
        "a=np.array([1,2,3,4,5])\n",
        "print(a*3)"
      ],
      "metadata": {
        "id": "XsBhqbUHkaZN",
        "outputId": "ccb31b30-81fb-4b99-db49-81033b9957da",
        "colab": {
          "base_uri": "https://localhost:8080/"
        }
      },
      "execution_count": null,
      "outputs": [
        {
          "output_type": "stream",
          "name": "stdout",
          "text": [
            "[ 3  6  9 12 15]\n"
          ]
        }
      ]
    },
    {
      "cell_type": "code",
      "source": [
        "a=np.array([1,2,3,4,5])\n",
        "print(type(a))\n",
        "print(a.shape) #ndaary的形狀\n",
        "print(a.dtype) #資料的型態\n",
        "print(a.ndim) #維度"
      ],
      "metadata": {
        "id": "xZuI8lT_kbrK",
        "outputId": "8ac0f6a4-1fd6-453d-aa98-617d8c4ecde1",
        "colab": {
          "base_uri": "https://localhost:8080/"
        }
      },
      "execution_count": null,
      "outputs": [
        {
          "output_type": "stream",
          "name": "stdout",
          "text": [
            "<class 'numpy.ndarray'>\n",
            "(5,)\n",
            "int64\n",
            "1\n"
          ]
        }
      ]
    },
    {
      "cell_type": "code",
      "source": [
        "import numpy as np\n",
        "z=np.zeros(6)\n",
        "print(z)\n",
        "print(np.empty((2,3,4)))\n",
        "print(np.arange(10))"
      ],
      "metadata": {
        "id": "DhDsDxFCkdMJ",
        "outputId": "0809e2cf-fd44-4d0a-91b8-4fc4dc7506fb",
        "colab": {
          "base_uri": "https://localhost:8080/"
        }
      },
      "execution_count": null,
      "outputs": [
        {
          "output_type": "stream",
          "name": "stdout",
          "text": [
            "[0. 0. 0. 0. 0. 0.]\n",
            "[[[2.22818073e-316 0.00000000e+000 0.00000000e+000 0.00000000e+000]\n",
            "  [0.00000000e+000 0.00000000e+000 0.00000000e+000 0.00000000e+000]\n",
            "  [0.00000000e+000 0.00000000e+000 0.00000000e+000 0.00000000e+000]]\n",
            "\n",
            " [[0.00000000e+000 0.00000000e+000 0.00000000e+000 0.00000000e+000]\n",
            "  [0.00000000e+000 0.00000000e+000 0.00000000e+000 0.00000000e+000]\n",
            "  [0.00000000e+000 0.00000000e+000 0.00000000e+000 0.00000000e+000]]]\n",
            "[0 1 2 3 4 5 6 7 8 9]\n"
          ]
        }
      ]
    },
    {
      "cell_type": "markdown",
      "source": [
        "ndarray的進階操作"
      ],
      "metadata": {
        "id": "Ibbu8_yPketX"
      }
    },
    {
      "cell_type": "code",
      "source": [
        "my_array=np.arange(10)\n",
        "print(my_array)\n",
        "print(my_array[0])\n",
        "print(my_array[0:5])"
      ],
      "metadata": {
        "id": "NoqyMxulkhUh",
        "outputId": "c7e32f14-c90a-47a6-f4ca-07557e89ef85",
        "colab": {
          "base_uri": "https://localhost:8080/"
        }
      },
      "execution_count": null,
      "outputs": [
        {
          "output_type": "stream",
          "name": "stdout",
          "text": [
            "[0 1 2 3 4 5 6 7 8 9]\n",
            "0\n",
            "[0 1 2 3 4]\n"
          ]
        }
      ]
    },
    {
      "cell_type": "markdown",
      "source": [
        "2維資料取值"
      ],
      "metadata": {
        "id": "bKuBuQFcklJC"
      }
    },
    {
      "cell_type": "code",
      "source": [
        "my_2d_array=np.array([np.arange(0,5),np.arange(5,10)])\n",
        "print(my_2d_array)\n",
        "print(my_2d_array[1,:])\n",
        "print(my_2d_array[:,1])\n",
        "print(my_2d_array[1,1])"
      ],
      "metadata": {
        "id": "pt6zrTNnknyN",
        "outputId": "a8261e0d-66ab-41db-f7ad-33230f38f840",
        "colab": {
          "base_uri": "https://localhost:8080/"
        }
      },
      "execution_count": null,
      "outputs": [
        {
          "output_type": "stream",
          "name": "stdout",
          "text": [
            "[[0 1 2 3 4]\n",
            " [5 6 7 8 9]]\n",
            "[5 6 7 8 9]\n",
            "[1 6]\n",
            "6\n"
          ]
        }
      ]
    },
    {
      "cell_type": "code",
      "source": [
        "my_array=np.arange(0,10)\n",
        "print(my_array)\n",
        "print(my_array.shape)\n",
        "my_2d_array=my_array.reshape(2,5)\n",
        "print(my_2d_array)\n",
        "print((np.arange(0,100).reshape(10,10)))"
      ],
      "metadata": {
        "id": "Q04aiJdhkqez",
        "outputId": "0cc23f41-7710-437a-be03-31278820ac3a",
        "colab": {
          "base_uri": "https://localhost:8080/"
        }
      },
      "execution_count": null,
      "outputs": [
        {
          "output_type": "stream",
          "name": "stdout",
          "text": [
            "[0 1 2 3 4 5 6 7 8 9]\n",
            "(10,)\n",
            "[[0 1 2 3 4]\n",
            " [5 6 7 8 9]]\n",
            "[[ 0  1  2  3  4  5  6  7  8  9]\n",
            " [10 11 12 13 14 15 16 17 18 19]\n",
            " [20 21 22 23 24 25 26 27 28 29]\n",
            " [30 31 32 33 34 35 36 37 38 39]\n",
            " [40 41 42 43 44 45 46 47 48 49]\n",
            " [50 51 52 53 54 55 56 57 58 59]\n",
            " [60 61 62 63 64 65 66 67 68 69]\n",
            " [70 71 72 73 74 75 76 77 78 79]\n",
            " [80 81 82 83 84 85 86 87 88 89]\n",
            " [90 91 92 93 94 95 96 97 98 99]]\n"
          ]
        }
      ]
    },
    {
      "cell_type": "markdown",
      "source": [
        "numpy的空值nan"
      ],
      "metadata": {
        "id": "QzMw0CpTk2bk"
      }
    },
    {
      "cell_type": "code",
      "source": [
        "b=np.array([56, 8, 19, 14, np.nan])\n",
        "print(b)"
      ],
      "metadata": {
        "id": "qEMchpJYk4l7",
        "outputId": "619ca377-7b78-46f7-e934-05cbf2b496d2",
        "colab": {
          "base_uri": "https://localhost:8080/"
        }
      },
      "execution_count": null,
      "outputs": [
        {
          "output_type": "stream",
          "name": "stdout",
          "text": [
            "[56.  8. 19. 14. nan]\n"
          ]
        }
      ]
    },
    {
      "cell_type": "markdown",
      "source": [
        "## Chap5\n",
        "# 函式(數)\n",
        "# 傳統的寫法\n"
      ],
      "metadata": {
        "id": "wgteaQkBk9D-"
      }
    },
    {
      "cell_type": "code",
      "source": [
        "import math\n",
        "radius = eval(input(\"請輸入圓的半徑：\")) #把輸入的字串變成數學計算型態\n",
        "print(\"圓的面積為：\", radius * radius * math.pi)"
      ],
      "metadata": {
        "id": "KeMRy626lJez",
        "outputId": "65c1d088-b520-473e-b647-afdd95e834e9",
        "colab": {
          "base_uri": "https://localhost:8080/"
        }
      },
      "execution_count": null,
      "outputs": [
        {
          "output_type": "stream",
          "name": "stdout",
          "text": [
            "請輸入圓的半徑：10\n",
            "圓的面積為： 314.1592653589793\n"
          ]
        }
      ]
    },
    {
      "cell_type": "markdown",
      "source": [
        "面積計算函示"
      ],
      "metadata": {
        "id": "63S80C_-lK7W"
      }
    },
    {
      "cell_type": "code",
      "source": [
        "import math\n",
        "def circle_area(radius):\n",
        "    area = radius * radius * math.pi\n",
        "    return area\n",
        "\n",
        "print(circle_area(10))"
      ],
      "metadata": {
        "id": "TuaOU1lulMgx",
        "outputId": "cbc070cb-f26b-40a2-99dd-46f1b33265a2",
        "colab": {
          "base_uri": "https://localhost:8080/"
        }
      },
      "execution_count": null,
      "outputs": [
        {
          "output_type": "stream",
          "name": "stdout",
          "text": [
            "314.1592653589793\n"
          ]
        }
      ]
    },
    {
      "cell_type": "markdown",
      "source": [
        "## Chap6\n",
        "os套件：用來處理文件與目錄，與檔案相關操作"
      ],
      "metadata": {
        "id": "txATYQ1JlNug"
      }
    },
    {
      "cell_type": "code",
      "source": [
        "import os\n",
        "print(os.getcwd()) #顯示目前所在的工作目錄"
      ],
      "metadata": {
        "id": "LbIlMh2ElX-7",
        "outputId": "988d631a-a3d0-40b9-b5a6-d5e8160f0137",
        "colab": {
          "base_uri": "https://localhost:8080/"
        }
      },
      "execution_count": null,
      "outputs": [
        {
          "output_type": "stream",
          "name": "stdout",
          "text": [
            "/content\n"
          ]
        }
      ]
    },
    {
      "cell_type": "code",
      "source": [
        "#顯示目錄下的檔案\n",
        "os.listdir(\".\")"
      ],
      "metadata": {
        "id": "H987A1RGlaVL",
        "outputId": "c85fa02a-9cdb-4279-c955-db7e94da3d99",
        "colab": {
          "base_uri": "https://localhost:8080/"
        }
      },
      "execution_count": null,
      "outputs": [
        {
          "output_type": "execute_result",
          "data": {
            "text/plain": [
              "['.config', 'sample_data']"
            ]
          },
          "metadata": {},
          "execution_count": 25
        }
      ]
    },
    {
      "cell_type": "code",
      "source": [
        "#新增目錄\n",
        "os.makedirs(\"test\")\n",
        "os.listdir(\".\")"
      ],
      "metadata": {
        "id": "XI7oKgiElb9z",
        "outputId": "d9d38cbf-b46c-4bd4-c2c9-c0f3c299fcec",
        "colab": {
          "base_uri": "https://localhost:8080/"
        }
      },
      "execution_count": null,
      "outputs": [
        {
          "output_type": "execute_result",
          "data": {
            "text/plain": [
              "['.config', 'test', 'sample_data']"
            ]
          },
          "metadata": {},
          "execution_count": 26
        }
      ]
    },
    {
      "cell_type": "code",
      "source": [
        "#移除目錄\n",
        "os.rmdir(\"test\")\n",
        "os.listdir(\".\")"
      ],
      "metadata": {
        "id": "zPoDFdInlde2",
        "outputId": "f99740ea-bfe9-4f32-8b52-7afedef1e9fd",
        "colab": {
          "base_uri": "https://localhost:8080/"
        }
      },
      "execution_count": null,
      "outputs": [
        {
          "output_type": "execute_result",
          "data": {
            "text/plain": [
              "['.config', 'sample_data']"
            ]
          },
          "metadata": {},
          "execution_count": 27
        }
      ]
    },
    {
      "cell_type": "markdown",
      "source": [
        "## 檔案處理\n",
        "os套件有自己的檔案處理命令，而比較常用的是python內建的open\n",
        "\n",
        "w = 可寫(預設建立檔案) 若檔案存在則會清除舊檔案\n",
        "w+ = 可寫可讀(預設建立檔案) 若檔案存在則會清除舊檔案\n",
        "r = 可讀\n",
        "r+ = 可寫可讀 但寫入資料指向開頭\n",
        "a = 可寫不能讀 寫入資料指向尾端\n",
        "a+ = 可寫可讀 寫入資料指向尾端\n",
        "b = 轉為2進位文件\n",
        "ab+ = 2進位文件的讀寫 寫入資料指向尾端"
      ],
      "metadata": {
        "id": "fGL5GXvTlfqb"
      }
    },
    {
      "cell_type": "markdown",
      "source": [
        "# 新增檔案"
      ],
      "metadata": {
        "id": "qyl5M7hqljWT"
      }
    },
    {
      "cell_type": "code",
      "source": [
        "a=open(\"a.txt\",\"w\") #新增檔案\n",
        "a.write(\"This is a test1\")\n",
        "a.write(\"This is a test2\\n\")\n",
        "a.write(\"This is a test3\\n\")\n",
        "a.close() #關閉檔案"
      ],
      "metadata": {
        "id": "QR3FgSHQlkqe"
      },
      "execution_count": null,
      "outputs": []
    },
    {
      "cell_type": "markdown",
      "source": [
        "# 檢查檔案是否存在"
      ],
      "metadata": {
        "id": "s-6P2P80lppI"
      }
    },
    {
      "cell_type": "code",
      "source": [
        "os.path.isfile(\"a.txt\")"
      ],
      "metadata": {
        "id": "iV-aHyA2lozc",
        "outputId": "eb590245-dd85-48f5-cd01-10b860e4e290",
        "colab": {
          "base_uri": "https://localhost:8080/"
        }
      },
      "execution_count": null,
      "outputs": [
        {
          "output_type": "execute_result",
          "data": {
            "text/plain": [
              "True"
            ]
          },
          "metadata": {},
          "execution_count": 29
        }
      ]
    },
    {
      "cell_type": "markdown",
      "source": [
        "讀取檔案"
      ],
      "metadata": {
        "id": "1eiUZX90lwjB"
      }
    },
    {
      "cell_type": "code",
      "source": [
        "a=open(\"a.txt\",\"r\")\n",
        "print(a.readline())\n",
        "print(a.readline())\n",
        "print(a.readline()) #多餘的命令，檔案只有2行\n",
        "a.close()"
      ],
      "metadata": {
        "id": "L7cx0EPYlyLD",
        "outputId": "3d529cb7-b8d6-4df7-acf3-ab4104f8def3",
        "colab": {
          "base_uri": "https://localhost:8080/"
        }
      },
      "execution_count": null,
      "outputs": [
        {
          "output_type": "stream",
          "name": "stdout",
          "text": [
            "This is a test1This is a test2\n",
            "\n",
            "This is a test3\n",
            "\n",
            "\n"
          ]
        }
      ]
    },
    {
      "cell_type": "code",
      "source": [
        "a=open(\"a.txt\",\"r\")\n",
        "print(a.readlines())  #一次讀取多行，與a.read()命令相同\n",
        "a.close()\n"
      ],
      "metadata": {
        "id": "cX5ASFZ6l0ZG",
        "outputId": "d785fc55-e612-4416-b825-6cf803f63b54",
        "colab": {
          "base_uri": "https://localhost:8080/"
        }
      },
      "execution_count": null,
      "outputs": [
        {
          "output_type": "stream",
          "name": "stdout",
          "text": [
            "['This is a test1This is a test2\\n', 'This is a test3\\n']\n"
          ]
        }
      ]
    },
    {
      "cell_type": "code",
      "source": [
        "#加上檔案是否存在的判斷\n",
        "if os.path.isfile(\"a.txt\"):\n",
        "    a=open(\"a.txt\",\"r\")\n",
        "    print(a.readlines())\n",
        "    a.close()\n",
        "else:\n",
        "    print(\"檔案不存在\")"
      ],
      "metadata": {
        "id": "qVhWALFpl2hc",
        "outputId": "8cf89bf0-0564-4ef2-d237-c503966b0db0",
        "colab": {
          "base_uri": "https://localhost:8080/"
        }
      },
      "execution_count": null,
      "outputs": [
        {
          "output_type": "stream",
          "name": "stdout",
          "text": [
            "['This is a test1This is a test2\\n', 'This is a test3\\n']\n"
          ]
        }
      ]
    },
    {
      "cell_type": "markdown",
      "source": [
        "# split函式"
      ],
      "metadata": {
        "id": "mF_B9neAl4Kp"
      }
    },
    {
      "cell_type": "code",
      "source": [
        "if os.path.isfile(\"a.txt\"):\n",
        "    a=open(\"a.txt\",\"r\")\n",
        "    for line in a:\n",
        "        fields=line.split(\" \") #以空白為切割欄位\n",
        "        print(fields)\n",
        "    a.close()\n",
        "else:\n",
        "    print(\"檔案不存在\")"
      ],
      "metadata": {
        "id": "cfGNSAKBl5JZ",
        "outputId": "bdb995e1-b976-4e2b-9b68-8ec5552d2157",
        "colab": {
          "base_uri": "https://localhost:8080/"
        }
      },
      "execution_count": null,
      "outputs": [
        {
          "output_type": "stream",
          "name": "stdout",
          "text": [
            "['This', 'is', 'a', 'test1This', 'is', 'a', 'test2\\n']\n",
            "['This', 'is', 'a', 'test3\\n']\n"
          ]
        }
      ]
    },
    {
      "cell_type": "markdown",
      "source": [
        "# 附加檔案"
      ],
      "metadata": {
        "id": "FhTYrCeTl8Zr"
      }
    },
    {
      "cell_type": "code",
      "source": [
        "a=open(\"a.txt\", \"a\")\n",
        "a.write(\"This is test4\\n\")\n",
        "a.close()"
      ],
      "metadata": {
        "id": "qwqo9qfPl7a8"
      },
      "execution_count": null,
      "outputs": []
    },
    {
      "cell_type": "code",
      "source": [
        "a=open(\"a.txt\",\"r\")\n",
        "print(a.readlines())\n",
        "a.close()"
      ],
      "metadata": {
        "id": "Kd-CY_NHl_ew",
        "outputId": "3cf8a7cf-bd2f-42b1-f194-1ffa825d15f8",
        "colab": {
          "base_uri": "https://localhost:8080/"
        }
      },
      "execution_count": null,
      "outputs": [
        {
          "output_type": "stream",
          "name": "stdout",
          "text": [
            "['This is a test1This is a test2\\n', 'This is a test3\\n', 'This is test4\\n']\n"
          ]
        }
      ]
    },
    {
      "cell_type": "markdown",
      "source": [
        "# 比較a與r+的不同\n",
        "\n",
        "\n",
        "*   a寫在檔案的結尾\n",
        "*   r+寫在檔案的開頭"
      ],
      "metadata": {
        "id": "XMQCAcr2mCed"
      }
    },
    {
      "cell_type": "code",
      "source": [
        "a=open(\"a.txt\",\"r+\")\n",
        "a.write(\"This is a test5\\n\")\n",
        "a.close()"
      ],
      "metadata": {
        "id": "DYXVUhpkmMG8"
      },
      "execution_count": null,
      "outputs": []
    },
    {
      "cell_type": "code",
      "source": [
        "a=open(\"a.txt\",\"r\")\n",
        "print(a.readlines())\n",
        "a.close()"
      ],
      "metadata": {
        "id": "2VgrNjKpmNg3",
        "outputId": "a36fdfca-be96-4c37-cc36-da24d0cfc698",
        "colab": {
          "base_uri": "https://localhost:8080/"
        }
      },
      "execution_count": null,
      "outputs": [
        {
          "output_type": "stream",
          "name": "stdout",
          "text": [
            "['This is a test5\\n', 'his is a test2\\n', 'This is a test3\\n', 'This is test4\\n']\n"
          ]
        }
      ]
    },
    {
      "cell_type": "markdown",
      "source": [
        "## 刪除檔案"
      ],
      "metadata": {
        "id": "-gaku9OgmO83"
      }
    },
    {
      "cell_type": "code",
      "source": [
        "if os.path.isfile(\"a.txt\"):\n",
        "    os.remove(\"a.txt\")\n",
        "    print(\"檔案刪除成功\")\n",
        "else:\n",
        "    print(\"找不到檔案\")\n",
        "print(os.path.isfile(\"a.txt\"))"
      ],
      "metadata": {
        "id": "fjxdIOVomSt7",
        "outputId": "0bac8a57-637f-4c7d-eeef-07557fe01ddd",
        "colab": {
          "base_uri": "https://localhost:8080/"
        }
      },
      "execution_count": null,
      "outputs": [
        {
          "output_type": "stream",
          "name": "stdout",
          "text": [
            "檔案刪除成功\n",
            "False\n"
          ]
        }
      ]
    },
    {
      "cell_type": "markdown",
      "source": [
        "## Chap7  錯誤處理\n",
        "try:\n",
        "except:\n",
        "else:\n",
        "finally:"
      ],
      "metadata": {
        "id": "W0pXdtLjmXIa"
      }
    },
    {
      "cell_type": "code",
      "source": [
        "a=10\n",
        "b=20\n",
        "if a<b:\n",
        "    print(n)"
      ],
      "metadata": {
        "id": "Hjn8QWS9mgJq",
        "outputId": "537a2c1f-bb2e-43bc-de85-333a04d98717",
        "colab": {
          "base_uri": "https://localhost:8080/",
          "height": 201
        }
      },
      "execution_count": null,
      "outputs": [
        {
          "output_type": "error",
          "ename": "NameError",
          "evalue": "ignored",
          "traceback": [
            "\u001b[0;31m---------------------------------------------------------------------------\u001b[0m",
            "\u001b[0;31mNameError\u001b[0m                                 Traceback (most recent call last)",
            "\u001b[0;32m<ipython-input-44-c19f432ee023>\u001b[0m in \u001b[0;36m<module>\u001b[0;34m()\u001b[0m\n\u001b[1;32m      2\u001b[0m \u001b[0mb\u001b[0m\u001b[0;34m=\u001b[0m\u001b[0;36m20\u001b[0m\u001b[0;34m\u001b[0m\u001b[0;34m\u001b[0m\u001b[0m\n\u001b[1;32m      3\u001b[0m \u001b[0;32mif\u001b[0m \u001b[0ma\u001b[0m\u001b[0;34m<\u001b[0m\u001b[0mb\u001b[0m\u001b[0;34m:\u001b[0m\u001b[0;34m\u001b[0m\u001b[0;34m\u001b[0m\u001b[0m\n\u001b[0;32m----> 4\u001b[0;31m     \u001b[0mprint\u001b[0m\u001b[0;34m(\u001b[0m\u001b[0mn\u001b[0m\u001b[0;34m)\u001b[0m\u001b[0;34m\u001b[0m\u001b[0;34m\u001b[0m\u001b[0m\n\u001b[0m",
            "\u001b[0;31mNameError\u001b[0m: name 'n' is not defined"
          ]
        }
      ]
    },
    {
      "cell_type": "code",
      "source": [
        "a=10\n",
        "b=20\n",
        "try:\n",
        "    if a<b:\n",
        "        print(n)\n",
        "except:\n",
        "    print(\"錯誤產生\")"
      ],
      "metadata": {
        "id": "t2nogtTlmgg4",
        "outputId": "ee8f9e50-cb19-476e-8c4a-5d26b61792a6",
        "colab": {
          "base_uri": "https://localhost:8080/"
        }
      },
      "execution_count": null,
      "outputs": [
        {
          "output_type": "stream",
          "name": "stdout",
          "text": [
            "錯誤產生\n"
          ]
        }
      ]
    },
    {
      "cell_type": "markdown",
      "source": [
        "# 指定錯誤類別處理"
      ],
      "metadata": {
        "id": "iUmLvqxFmjN2"
      }
    },
    {
      "cell_type": "code",
      "source": [
        "a=10\n",
        "b=20\n",
        "try:\n",
        "    if a<b:\n",
        "        print(n)\n",
        "except NameError as e:\n",
        "    print(\"錯誤產生, 錯誤原因：\",e)\n",
        "except ZeroDivisionError:\n",
        "    print(\"除以0錯誤\")"
      ],
      "metadata": {
        "id": "Zc104qLemkI5",
        "outputId": "2b1dbc49-0488-4d73-9406-25c33bf30fa8",
        "colab": {
          "base_uri": "https://localhost:8080/"
        }
      },
      "execution_count": null,
      "outputs": [
        {
          "output_type": "stream",
          "name": "stdout",
          "text": [
            "錯誤產生, 錯誤原因： name 'n' is not defined\n"
          ]
        }
      ]
    },
    {
      "cell_type": "markdown",
      "source": [
        "# else\n",
        "沒有錯誤產生會執行的部分"
      ],
      "metadata": {
        "id": "6hP5VpmXmms-"
      }
    },
    {
      "cell_type": "code",
      "source": [
        "a=10\n",
        "b=20\n",
        "try:\n",
        "    if a>b: #改變比較條件，讓錯誤不發生\n",
        "        print(n)\n",
        "except:\n",
        "    print(\"錯誤發生\")\n",
        "else:\n",
        "    print(\"沒有錯誤發生時會執行的部分\")"
      ],
      "metadata": {
        "id": "uwEhpEuBmoiH"
      },
      "execution_count": null,
      "outputs": []
    },
    {
      "cell_type": "code",
      "source": [
        "a=10\n",
        "b=20\n",
        "try:\n",
        "    if a>b: #改變比較條件，讓錯誤不發生\n",
        "        print(n)\n",
        "except:\n",
        "    print(\"錯誤發生\")\n",
        "else:\n",
        "    print(\"沒有錯誤發生時會執行的部分\")\n",
        "finally:\n",
        "    print(\"不管有沒有錯誤一定會執行的部分\")"
      ],
      "metadata": {
        "id": "mXYASj_gmq5q",
        "outputId": "3b957cfa-493c-4891-e294-a844d4be014c",
        "colab": {
          "base_uri": "https://localhost:8080/"
        }
      },
      "execution_count": null,
      "outputs": [
        {
          "output_type": "stream",
          "name": "stdout",
          "text": [
            "沒有錯誤發生時會執行的部分\n",
            "不管有沒有錯誤一定會執行的部分\n"
          ]
        }
      ]
    }
  ],
  "metadata": {
    "colab": {
      "collapsed_sections": [],
      "name": "「歡迎使用 Colaboratory」的副本",
      "provenance": [],
      "include_colab_link": true
    },
    "kernelspec": {
      "display_name": "Python 3",
      "name": "python3"
    }
  },
  "nbformat": 4,
  "nbformat_minor": 0
}