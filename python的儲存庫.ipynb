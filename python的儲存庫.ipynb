{
  "nbformat": 4,
  "nbformat_minor": 0,
  "metadata": {
    "colab": {
      "name": "python的儲存庫.ipynb",
      "provenance": [],
      "collapsed_sections": [],
      "include_colab_link": true
    },
    "kernelspec": {
      "name": "python3",
      "display_name": "Python 3"
    },
    "language_info": {
      "name": "python"
    }
  },
  "cells": [
    {
      "cell_type": "markdown",
      "metadata": {
        "id": "view-in-github",
        "colab_type": "text"
      },
      "source": [
        "<a href=\"https://colab.research.google.com/github/jerry71867/python-/blob/main/python%E7%9A%84%E5%84%B2%E5%AD%98%E5%BA%AB.ipynb\" target=\"_parent\"><img src=\"https://colab.research.google.com/assets/colab-badge.svg\" alt=\"Open In Colab\"/></a>"
      ]
    },
    {
      "cell_type": "markdown",
      "source": [
        "## Chap0"
      ],
      "metadata": {
        "id": "Ln1CLI_5tHZU"
      }
    },
    {
      "cell_type": "markdown",
      "source": [
        "\n",
        "- import匯入\n",
        "\n",
        "- calendar日曆\n",
        "- month月\n",
        "\n",
        "- matplotlib.pyplot = plt = 圖表\n",
        "- bar=直條圖\n",
        "- pie=圓餅圖\n",
        "- show=顯示"
      ],
      "metadata": {
        "id": "u61yWWRbiy-E"
      }
    },
    {
      "cell_type": "code",
      "source": [
        "import calendar\n",
        "print(calendar.month(2022,3))"
      ],
      "metadata": {
        "colab": {
          "base_uri": "https://localhost:8080/"
        },
        "id": "qwWAh2Jhi7Ej",
        "outputId": "9a7549d5-672d-4227-fa85-ffaf190be241"
      },
      "execution_count": null,
      "outputs": [
        {
          "output_type": "stream",
          "name": "stdout",
          "text": [
            "     March 2022\n",
            "Mo Tu We Th Fr Sa Su\n",
            "    1  2  3  4  5  6\n",
            " 7  8  9 10 11 12 13\n",
            "14 15 16 17 18 19 20\n",
            "21 22 23 24 25 26 27\n",
            "28 29 30 31\n",
            "\n"
          ]
        }
      ]
    },
    {
      "cell_type": "code",
      "source": [
        "import calendar\n",
        "print(calendar.calendar(2022))"
      ],
      "metadata": {
        "colab": {
          "base_uri": "https://localhost:8080/"
        },
        "id": "u7Y6WBmYjB7T",
        "outputId": "5d8a25fd-83cd-4f6d-c3f5-0976d248401b"
      },
      "execution_count": null,
      "outputs": [
        {
          "output_type": "stream",
          "name": "stdout",
          "text": [
            "                                  2022\n",
            "\n",
            "      January                   February                   March\n",
            "Mo Tu We Th Fr Sa Su      Mo Tu We Th Fr Sa Su      Mo Tu We Th Fr Sa Su\n",
            "                1  2          1  2  3  4  5  6          1  2  3  4  5  6\n",
            " 3  4  5  6  7  8  9       7  8  9 10 11 12 13       7  8  9 10 11 12 13\n",
            "10 11 12 13 14 15 16      14 15 16 17 18 19 20      14 15 16 17 18 19 20\n",
            "17 18 19 20 21 22 23      21 22 23 24 25 26 27      21 22 23 24 25 26 27\n",
            "24 25 26 27 28 29 30      28                        28 29 30 31\n",
            "31\n",
            "\n",
            "       April                      May                       June\n",
            "Mo Tu We Th Fr Sa Su      Mo Tu We Th Fr Sa Su      Mo Tu We Th Fr Sa Su\n",
            "             1  2  3                         1             1  2  3  4  5\n",
            " 4  5  6  7  8  9 10       2  3  4  5  6  7  8       6  7  8  9 10 11 12\n",
            "11 12 13 14 15 16 17       9 10 11 12 13 14 15      13 14 15 16 17 18 19\n",
            "18 19 20 21 22 23 24      16 17 18 19 20 21 22      20 21 22 23 24 25 26\n",
            "25 26 27 28 29 30         23 24 25 26 27 28 29      27 28 29 30\n",
            "                          30 31\n",
            "\n",
            "        July                     August                  September\n",
            "Mo Tu We Th Fr Sa Su      Mo Tu We Th Fr Sa Su      Mo Tu We Th Fr Sa Su\n",
            "             1  2  3       1  2  3  4  5  6  7                1  2  3  4\n",
            " 4  5  6  7  8  9 10       8  9 10 11 12 13 14       5  6  7  8  9 10 11\n",
            "11 12 13 14 15 16 17      15 16 17 18 19 20 21      12 13 14 15 16 17 18\n",
            "18 19 20 21 22 23 24      22 23 24 25 26 27 28      19 20 21 22 23 24 25\n",
            "25 26 27 28 29 30 31      29 30 31                  26 27 28 29 30\n",
            "\n",
            "      October                   November                  December\n",
            "Mo Tu We Th Fr Sa Su      Mo Tu We Th Fr Sa Su      Mo Tu We Th Fr Sa Su\n",
            "                1  2          1  2  3  4  5  6                1  2  3  4\n",
            " 3  4  5  6  7  8  9       7  8  9 10 11 12 13       5  6  7  8  9 10 11\n",
            "10 11 12 13 14 15 16      14 15 16 17 18 19 20      12 13 14 15 16 17 18\n",
            "17 18 19 20 21 22 23      21 22 23 24 25 26 27      19 20 21 22 23 24 25\n",
            "24 25 26 27 28 29 30      28 29 30                  26 27 28 29 30 31\n",
            "31\n",
            "\n"
          ]
        }
      ]
    },
    {
      "cell_type": "code",
      "source": [
        "import matplotlib.pyplot as plt #matplotlib.pyplot = plt = 圖表\n",
        "x=[1,2,3]\n",
        "y=[4,5,6]\n",
        "plt.bar(x,y) #bar=直條圖\n",
        "plt.show #show=顯示"
      ],
      "metadata": {
        "colab": {
          "base_uri": "https://localhost:8080/",
          "height": 282
        },
        "id": "vpiI4ucSjDkj",
        "outputId": "900cabf3-c6a6-4e66-deda-f586e79cda85"
      },
      "execution_count": null,
      "outputs": [
        {
          "output_type": "execute_result",
          "data": {
            "text/plain": [
              "<function matplotlib.pyplot.show>"
            ]
          },
          "metadata": {},
          "execution_count": 3
        },
        {
          "output_type": "display_data",
          "data": {
            "text/plain": [
              "<Figure size 432x288 with 1 Axes>"
            ],
            "image/png": "[encoded data removed]"
          },
          "metadata": {
            "needs_background": "light"
          }
        }
      ]
    },
    {
      "cell_type": "code",
      "source": [
        "plt.pie(x, labels=y) #pie=圓餅圖\n",
        "plt.show #show=顯示"
      ],
      "metadata": {
        "colab": {
          "base_uri": "https://localhost:8080/",
          "height": 266
        },
        "id": "orKPcJB1jIpz",
        "outputId": "b8c86de0-42d0-4a54-8b18-b604dec06931"
      },
      "execution_count": null,
      "outputs": [
        {
          "output_type": "execute_result",
          "data": {
            "text/plain": [
              "<function matplotlib.pyplot.show>"
            ]
          },
          "metadata": {},
          "execution_count": 4
        },
        {
          "output_type": "display_data",
          "data": {
            "text/plain": [
              "<Figure size 432x288 with 1 Axes>"
            ],
            "image/png": "[encoded data removed]"
          },
          "metadata": {}
        }
      ]
    },
    {
      "cell_type": "markdown",
      "source": [
        "## Chap1 運算式、變數與資料型別\n",
        "\n",
        "##註解"
      ],
      "metadata": {
        "id": "E9qUA46Spgp8"
      }
    },
    {
      "cell_type": "code",
      "execution_count": null,
      "metadata": {
        "id": "D4ADWA9QpB_J"
      },
      "outputs": [],
      "source": [
        "#單行註解\n",
        "a=5\n",
        "b=3\n",
        "print(a+b)"
      ]
    },
    {
      "cell_type": "code",
      "source": [
        "'''\n",
        "多行註解\n",
        "多行註解\n",
        "'''\n",
        "a=5\n",
        "b=3\n",
        "print(a+b)"
      ],
      "metadata": {
        "id": "CnPfYZ2TpUtU"
      },
      "execution_count": null,
      "outputs": []
    },
    {
      "cell_type": "code",
      "source": [
        "#變數交換,透過第3變數z\n",
        "x=1\n",
        "y=10\n",
        "\n",
        "z=x #z=1\n",
        "x=y #x=10\n",
        "y=z #y=z=1\n",
        "print(x)\n",
        "print(y)"
      ],
      "metadata": {
        "colab": {
          "base_uri": "https://localhost:8080/"
        },
        "id": "_nVSqTSOsaec",
        "outputId": "7a765cea-57ef-4aee-ff20-a547fb219c8b"
      },
      "execution_count": null,
      "outputs": [
        {
          "output_type": "stream",
          "name": "stdout",
          "text": [
            "10\n",
            "1\n"
          ]
        }
      ]
    },
    {
      "cell_type": "code",
      "source": [
        "#變數交換,不透過第3變數\n",
        "x=1\n",
        "y=10\n",
        "\n",
        "x=x+y # x=1+10=11 x=11\n",
        "y=x-y # y=11-10=1 y=1\n",
        "x=x-y # x=11-1=10 x=10\n",
        "print(x,y)"
      ],
      "metadata": {
        "colab": {
          "base_uri": "https://localhost:8080/"
        },
        "id": "RckaihbRtsp9",
        "outputId": "a287246c-05aa-4ff7-b3be-bcf48227a8cc"
      },
      "execution_count": null,
      "outputs": [
        {
          "output_type": "stream",
          "name": "stdout",
          "text": [
            "10 1\n"
          ]
        }
      ]
    },
    {
      "cell_type": "code",
      "source": [
        "#python版本的變數交換\n",
        "x=1\n",
        "y=10\n",
        "\n",
        "x,y=y,x\n",
        "print(x,y)\n"
      ],
      "metadata": {
        "colab": {
          "base_uri": "https://localhost:8080/"
        },
        "id": "v7YJ0RyEvC4E",
        "outputId": "21be4011-66ba-4b79-95db-b11cb6a796a5"
      },
      "execution_count": null,
      "outputs": [
        {
          "output_type": "stream",
          "name": "stdout",
          "text": [
            "10 1\n"
          ]
        }
      ]
    },
    {
      "cell_type": "code",
      "source": [
        "#變數的平行設定\n",
        "x,y,z=1,10,100\n",
        "print(x,y,z)"
      ],
      "metadata": {
        "colab": {
          "base_uri": "https://localhost:8080/"
        },
        "id": "gi31ov1evazT",
        "outputId": "4e1b45ae-8508-4cd2-fbee-7f1722345a65"
      },
      "execution_count": null,
      "outputs": [
        {
          "output_type": "stream",
          "name": "stdout",
          "text": [
            "1 10 100\n"
          ]
        }
      ]
    },
    {
      "cell_type": "code",
      "source": [
        "x,y,z=3,4,5\n",
        "x+=1 #x=x+1\n",
        "y*=2 #y=y*2\n",
        "z**=3 #z=z的3次方,\n",
        "print(x,y,z)"
      ],
      "metadata": {
        "colab": {
          "base_uri": "https://localhost:8080/"
        },
        "id": "U2i_Ml1AetT1",
        "outputId": "77a632bb-290b-49a4-a8bf-dff3ead40431"
      },
      "execution_count": null,
      "outputs": [
        {
          "output_type": "stream",
          "name": "stdout",
          "text": [
            "4 8 125\n"
          ]
        }
      ]
    },
    {
      "cell_type": "markdown",
      "source": [
        "## 變數的應用\n"
      ],
      "metadata": {
        "id": "V9oqfpaaij_l"
      }
    },
    {
      "cell_type": "code",
      "source": [
        "#圓形\n",
        "import math\n",
        "r=10\n",
        "print(r*r*math.pi)\n"
      ],
      "metadata": {
        "colab": {
          "base_uri": "https://localhost:8080/"
        },
        "id": "c3-m1QHeiIV8",
        "outputId": "b5ba4bfd-3c99-4f33-a38a-e0c8912e6506"
      },
      "execution_count": null,
      "outputs": [
        {
          "output_type": "stream",
          "name": "stdout",
          "text": [
            "314.1592653589793\n"
          ]
        }
      ]
    },
    {
      "cell_type": "code",
      "source": [
        "#圓形(自行輸入半徑=r\n",
        "import math\n",
        "r=eval(input(\"請輸入圓的半徑:\")) #eval()將字串轉化成數值運算\n",
        "print(r*r*math.pi)\n"
      ],
      "metadata": {
        "colab": {
          "base_uri": "https://localhost:8080/"
        },
        "id": "62kh6mQCkX_C",
        "outputId": "d18ba52b-4c07-44b9-a6ec-02ff2b0bd6bf"
      },
      "execution_count": null,
      "outputs": [
        {
          "output_type": "stream",
          "name": "stdout",
          "text": [
            "請輸入圓的半徑:5*2\n",
            "314.1592653589793\n"
          ]
        }
      ]
    },
    {
      "cell_type": "code",
      "source": [
        "#長方形 (自行輸入\n",
        "import math\n",
        "a=eval(input(\"請輸入寬:\"))\n",
        "b=eval(input(\"請輸入長:\"))\n",
        "print(\"長方形面積為:\"),print(a*b)"
      ],
      "metadata": {
        "colab": {
          "base_uri": "https://localhost:8080/"
        },
        "id": "4zWFhY_UmHVY",
        "outputId": "87eb4d0f-500e-443e-9b9b-b5a8d47297b2"
      },
      "execution_count": null,
      "outputs": [
        {
          "output_type": "stream",
          "name": "stdout",
          "text": [
            "請輸入寬:5\n",
            "請輸入長:5\n",
            "長方形面積為\n",
            "25\n"
          ]
        }
      ]
    },
    {
      "cell_type": "markdown",
      "source": [
        "## 資料型別\n"
      ],
      "metadata": {
        "id": "Rru_RayOqvlG"
      }
    },
    {
      "cell_type": "code",
      "source": [
        "x=254\n",
        "y=254.0\n",
        "z=\"Hi\"\n",
        "print(type(x))  #int整數值\n",
        "print(type(y))  #float小數值\n",
        "print(type(z))  #str字串\n",
        "print(type(x==y)) #bool布林值,兩個等於=是否相同"
      ],
      "metadata": {
        "colab": {
          "base_uri": "https://localhost:8080/"
        },
        "id": "gf3XOm4TquH3",
        "outputId": "a2173d39-71d7-4737-86bf-a6514d4fe03b"
      },
      "execution_count": null,
      "outputs": [
        {
          "output_type": "stream",
          "name": "stdout",
          "text": [
            "<class 'int'>\n",
            "<class 'float'>\n",
            "<class 'str'>\n",
            "<class 'bool'>\n"
          ]
        }
      ]
    },
    {
      "cell_type": "markdown",
      "source": [
        "## 算術符號\n"
      ],
      "metadata": {
        "id": "FhEAjVa7uw1E"
      }
    },
    {
      "cell_type": "code",
      "source": [
        "x=10\n",
        "y=3\n",
        "print(x/y) #除法\n",
        "print(x//y) #取商數\n",
        "print(x%y) #取餘數"
      ],
      "metadata": {
        "colab": {
          "base_uri": "https://localhost:8080/"
        },
        "id": "k6x6zbFBs7hd",
        "outputId": "4906a058-6a8e-42b0-a2d7-456734fdbc88"
      },
      "execution_count": null,
      "outputs": [
        {
          "output_type": "stream",
          "name": "stdout",
          "text": [
            "3.3333333333333335\n",
            "3\n",
            "1\n"
          ]
        }
      ]
    },
    {
      "cell_type": "code",
      "source": [
        "x=(5*(1+2)**2-3+4/2)\n",
        "print(x)"
      ],
      "metadata": {
        "colab": {
          "base_uri": "https://localhost:8080/"
        },
        "id": "MVAfaxmJutF-",
        "outputId": "f787a2df-fe9b-4cb2-92ad-1cde8d133c2e"
      },
      "execution_count": null,
      "outputs": [
        {
          "output_type": "stream",
          "name": "stdout",
          "text": [
            "44.0\n"
          ]
        }
      ]
    },
    {
      "cell_type": "markdown",
      "source": [
        "## 型別轉換"
      ],
      "metadata": {
        "id": "AS4RRwgHnpHb"
      }
    },
    {
      "cell_type": "code",
      "source": [
        "x=\"must \"\n",
        "print(type(x))\n",
        "y=20 \n",
        "print(type(y))\n",
        "print(10*y)\n",
        "print(10*x)\n",
        "z=\"10 \"\n",
        "print(10*z)\n",
        "print(10*int(z)) #int整數值\n",
        "print(10*float(z)) #float小數值\n",
        "print(10*str(y)) #str字串\n",
        "print(10*eval(\"5*2\")) #eval()將字串轉化成數值運算"
      ],
      "metadata": {
        "id": "HKSuFQAvmnB7",
        "colab": {
          "base_uri": "https://localhost:8080/"
        },
        "outputId": "e24e9945-b62f-4475-c75d-4fcc2f845928"
      },
      "execution_count": null,
      "outputs": [
        {
          "output_type": "stream",
          "name": "stdout",
          "text": [
            "<class 'str'>\n",
            "<class 'int'>\n",
            "200\n",
            "must must must must must must must must must must \n",
            "10 10 10 10 10 10 10 10 10 10 \n",
            "100\n",
            "100.0\n",
            "20202020202020202020\n",
            "100\n"
          ]
        }
      ]
    },
    {
      "cell_type": "markdown",
      "source": [
        "## print的三種方式\n",
        "\n",
        "\n",
        "1.   透過,區隔要列印的變數 eg: print(\"This\", \"is\", \"a\", \"book\")\n",
        "1.   利用字串的str.format() (新式)\n",
        "2.  %格式化输出字符串 (舊式) \n",
        "\n",
        "\n",
        "\n",
        "\n"
      ],
      "metadata": {
        "id": "jYbKXIIjzF2K"
      }
    },
    {
      "cell_type": "code",
      "source": [
        "a=\"This\"+\"is\"+\"a\"+\"book\"\n",
        "print(a)\n",
        "#答:Thisisabook\n",
        "print(\"This\",\"is\",\"a\",\"book\") \n",
        "#答:This is a book"
      ],
      "metadata": {
        "colab": {
          "base_uri": "https://localhost:8080/"
        },
        "id": "kP0WdaLurq6A",
        "outputId": "cdfb0e95-5bd9-4a21-a689-9827429afba5"
      },
      "execution_count": null,
      "outputs": [
        {
          "output_type": "stream",
          "name": "stdout",
          "text": [
            "Thisisabook\n",
            "This is a book\n"
          ]
        }
      ]
    },
    {
      "cell_type": "markdown",
      "source": [
        "## Chap2\n",
        "### if,elif,else\n"
      ],
      "metadata": {
        "id": "HLQdKvdhtKNy"
      }
    },
    {
      "cell_type": "code",
      "source": [
        "a=3\n",
        "b=4\n",
        "if a <= b:\n",
        "    print(\"b是比較大的數字\")\n",
        "else:\n",
        "    print(\"a是比較大的數字\")"
      ],
      "metadata": {
        "colab": {
          "base_uri": "https://localhost:8080/"
        },
        "id": "OZ2HgnI-liTN",
        "outputId": "9fbbad4e-891c-4d86-ea4a-23b0cc4870af"
      },
      "execution_count": null,
      "outputs": [
        {
          "output_type": "stream",
          "name": "stdout",
          "text": [
            "b是比較大的數字\n"
          ]
        }
      ]
    },
    {
      "cell_type": "code",
      "source": [
        "a=3\n",
        "b=4\n",
        "if a > b:  #冒號一定要加\n",
        "   print(\"a>b\") #一定要縮排\n",
        "else:\n",
        "   print(\"a<b\")"
      ],
      "metadata": {
        "colab": {
          "base_uri": "https://localhost:8080/"
        },
        "id": "NbPqUwt6sXFi",
        "outputId": "4003aad2-50b3-4425-b6db-900915d1bcd7"
      },
      "execution_count": null,
      "outputs": [
        {
          "output_type": "stream",
          "name": "stdout",
          "text": [
            "a<b\n"
          ]
        }
      ]
    },
    {
      "cell_type": "code",
      "source": [
        "a=4\n",
        "b=4\n",
        "if a > b:\n",
        "   print(\"a>b\")\n",
        "elif a==b:\n",
        "  print(\"a==b\")\n",
        "else:\n",
        "   print(\"a<b\")"
      ],
      "metadata": {
        "id": "6rELqxnNtphc",
        "colab": {
          "base_uri": "https://localhost:8080/"
        },
        "outputId": "1e20e986-8294-40fc-eb0f-8959c4ff1726"
      },
      "execution_count": null,
      "outputs": [
        {
          "output_type": "stream",
          "name": "stdout",
          "text": [
            "a==b\n"
          ]
        }
      ]
    },
    {
      "cell_type": "code",
      "source": [
        "grade=87\n",
        "print(\"成績評鑑:\")\n",
        "if grade >=90:\n",
        "  print(\"優等\")\n",
        "elif grade >80:\n",
        "  print(\"甲等\")\n",
        "elif grade >70:\n",
        "  print(\"乙等\")\n",
        "elif grade >60:\n",
        "  print(\"丙等\")\n",
        "else:\n",
        "  print(\"不及格\")"
      ],
      "metadata": {
        "colab": {
          "base_uri": "https://localhost:8080/"
        },
        "id": "u2L0dcC-zXHS",
        "outputId": "5b66de52-97cb-4be3-f667-3d1a4d1108bb"
      },
      "execution_count": null,
      "outputs": [
        {
          "output_type": "stream",
          "name": "stdout",
          "text": [
            "成績評鑑:\n",
            "甲等\n"
          ]
        }
      ]
    },
    {
      "cell_type": "markdown",
      "source": [
        "## for迴圈"
      ],
      "metadata": {
        "id": "ei98uqYU2fD5"
      }
    },
    {
      "cell_type": "code",
      "source": [
        "for a in range(10): #方法一  #range從0開始算10個數字\n",
        "  print(a)\n",
        "\n",
        "#for i in range(0,10,1): #方法二\n",
        "  #print(i)"
      ],
      "metadata": {
        "colab": {
          "base_uri": "https://localhost:8080/"
        },
        "id": "w9UpQbR92fbZ",
        "outputId": "11e98c5b-a40b-44fe-e7f7-24aae1e571d7"
      },
      "execution_count": null,
      "outputs": [
        {
          "output_type": "stream",
          "name": "stdout",
          "text": [
            "0\n",
            "1\n",
            "2\n",
            "3\n",
            "4\n",
            "5\n",
            "6\n",
            "7\n",
            "8\n",
            "9\n"
          ]
        }
      ]
    },
    {
      "cell_type": "code",
      "source": [
        "for b in \"Hey! BO\": #一個字等於一個字串\n",
        "  print(b) #b=H b=e b=y b=! b=一格空白建 b=y b=o\n",
        "\n",
        "for d in [\"Java\",\"python\",\"C#\"]: #一個詞等於一個字串\n",
        "  print(d) #d=Java d=python d=C#"
      ],
      "metadata": {
        "colab": {
          "base_uri": "https://localhost:8080/"
        },
        "id": "bkTfa6c143QY",
        "outputId": "ddf4ce9c-5bc6-468b-a9ac-8e98adc73a13"
      },
      "execution_count": 1,
      "outputs": [
        {
          "output_type": "stream",
          "name": "stdout",
          "text": [
            "H\n",
            "e\n",
            "y\n",
            "!\n",
            " \n",
            "B\n",
            "O\n",
            "Java\n",
            "python\n",
            "C#\n"
          ]
        }
      ]
    },
    {
      "cell_type": "code",
      "source": [
        "sum=0\n",
        "for e in range(11): #range等於0~10 #也能寫成range(1,11,1)\n",
        "  sum+=e\n",
        "print(\"1+2+3+...+10 =\", sum)\n",
        "print(sum)"
      ],
      "metadata": {
        "colab": {
          "base_uri": "https://localhost:8080/"
        },
        "id": "xfo2GcXQ7R25",
        "outputId": "5cacbe0f-3a0a-463e-dfb6-949b1190e22f"
      },
      "execution_count": null,
      "outputs": [
        {
          "output_type": "stream",
          "name": "stdout",
          "text": [
            "1+2+3+...+10 = 55\n",
            "55\n"
          ]
        }
      ]
    },
    {
      "cell_type": "code",
      "source": [
        "#雞兔同籠,若共有35個頭,94隻腳,請問有幾隻雞?幾隻兔?\n",
        "for chicken in range(0,36):\n",
        "  rabbit=35-chicken\n",
        "  if (2*chicken+4*rabbit)==94:\n",
        "    print(\"雞有\",chicken,\"隻\",\"兔子有\",rabbit,\"隻\")\n",
        "    break\n",
        "\n",
        "else:\n",
        "  print(\"無解\")"
      ],
      "metadata": {
        "colab": {
          "base_uri": "https://localhost:8080/"
        },
        "id": "o2SpnaLc8zrC",
        "outputId": "4c87f419-bf1f-41b3-d9eb-9432447961c4"
      },
      "execution_count": null,
      "outputs": [
        {
          "output_type": "stream",
          "name": "stdout",
          "text": [
            "雞有 23 隻 兔子有 12 隻\n"
          ]
        }
      ]
    },
    {
      "cell_type": "markdown",
      "source": [
        "## while迴圈"
      ],
      "metadata": {
        "id": "T2roug0E9x1v"
      }
    },
    {
      "cell_type": "code",
      "source": [
        "i=1\n",
        "sum=0\n",
        "while i < 11: #i=0~10\n",
        "  sum=sum+i #從0開始+1\n",
        "  i+=1\n",
        "print(sum)"
      ],
      "metadata": {
        "colab": {
          "base_uri": "https://localhost:8080/"
        },
        "id": "LeToGVHs9802",
        "outputId": "26a8f9f1-0fad-44dd-e29e-a9a82c685c98"
      },
      "execution_count": null,
      "outputs": [
        {
          "output_type": "stream",
          "name": "stdout",
          "text": [
            "55\n"
          ]
        }
      ]
    }
  ]
}